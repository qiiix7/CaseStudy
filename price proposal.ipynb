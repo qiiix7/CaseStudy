{
 "cells": [
  {
   "cell_type": "markdown",
   "id": "93bc20bd",
   "metadata": {},
   "source": [
    "## Pricing proposal\n",
    "The goal of the company is to maximize the profit of the business over the 12 months. Since the price for each ride is fixed $30, in this proposal, I’m going to decide the cost of platform, that is how much we should pay each driver.\n",
    "\n",
    "To simplify the problems, I make the following assumptions.\n",
    "<li>1. Assume there's no other competitor platform in the market, so that we don't need to consider competition in our pricing strategy  </li>\n",
    "<li>2. Factors that influence the number of riding requests based solely on number of match in the previous months</li>\n",
    "<li>3. Factors that influence the drivers whether accept the requests solely based on price </li>\n",
    "<li>4. Each month we have 1000 riders, some of them are previous old riders who might request more than 1 ride based on lambda, some of them are new riders who only request 1 ride. </li>\n",
    "<li>5. DriverAcceptanceData distribution is the same for each month</li>\n",
    "<li>6. Match rate for each month equals to the accepting rate in DriverAcceptanceData distribution </li>\n",
    "\n",
    "The followings would be steps how I analyze this problems\n",
    "\n",
    "<li>Explore and analyze the driverAcceptanceData data, including distribution, price accepted range </li>\n",
    "<li>Explore the profit based on different pay rate to drivers </li>\n",
    "<li>Explore the profit changed if new users acquired per month</li>\n",
    "\n",
    "Conclusion:\n",
    "\n",
    "I found that when no newly users added and if the pay rate to driver is $25/trip, the total profit for all 12 months can be the max, however, since the low price charge from rider and high acquisition cost, the max profit is still negative.  \n"
   ]
  },
  {
   "cell_type": "code",
   "execution_count": 124,
   "id": "8a04f50f",
   "metadata": {},
   "outputs": [
    {
     "data": {
      "text/html": [
       "<div>\n",
       "<style scoped>\n",
       "    .dataframe tbody tr th:only-of-type {\n",
       "        vertical-align: middle;\n",
       "    }\n",
       "\n",
       "    .dataframe tbody tr th {\n",
       "        vertical-align: top;\n",
       "    }\n",
       "\n",
       "    .dataframe thead th {\n",
       "        text-align: right;\n",
       "    }\n",
       "</style>\n",
       "<table border=\"1\" class=\"dataframe\">\n",
       "  <thead>\n",
       "    <tr style=\"text-align: right;\">\n",
       "      <th></th>\n",
       "      <th>PAY</th>\n",
       "      <th>ACCEPTED</th>\n",
       "    </tr>\n",
       "  </thead>\n",
       "  <tbody>\n",
       "    <tr>\n",
       "      <th>0</th>\n",
       "      <td>29.358732</td>\n",
       "      <td>0</td>\n",
       "    </tr>\n",
       "    <tr>\n",
       "      <th>1</th>\n",
       "      <td>22.986847</td>\n",
       "      <td>0</td>\n",
       "    </tr>\n",
       "    <tr>\n",
       "      <th>2</th>\n",
       "      <td>18.020348</td>\n",
       "      <td>0</td>\n",
       "    </tr>\n",
       "  </tbody>\n",
       "</table>\n",
       "</div>"
      ],
      "text/plain": [
       "         PAY  ACCEPTED\n",
       "0  29.358732         0\n",
       "1  22.986847         0\n",
       "2  18.020348         0"
      ]
     },
     "execution_count": 124,
     "metadata": {},
     "output_type": "execute_result"
    }
   ],
   "source": [
    "\"\"\"\n",
    "import the csv file and \n",
    "\"\"\"\n",
    "import pandas as pd\n",
    "df = pd.read_csv('driverAcceptanceData.csv') \n",
    "df = df.iloc[:,1:]\n",
    "df.head(3)"
   ]
  },
  {
   "cell_type": "markdown",
   "id": "b83f38a6",
   "metadata": {},
   "source": [
    "<h3> Explore and analyze the driverAcceptanceData data </h3>\n",
    "\n",
    "The x-axis is the price pay to driver, y-axis is the accept count associated with x price."
   ]
  },
  {
   "cell_type": "code",
   "execution_count": 132,
   "id": "34d45fac",
   "metadata": {},
   "outputs": [
    {
     "name": "stdout",
     "output_type": "stream",
     "text": [
      "total accept count: 527\n",
      "accept rate for price below 30: 0.211\n"
     ]
    },
    {
     "data": {
      "image/png": "[encoded data removed]",
      "text/plain": [
       "<Figure size 432x288 with 1 Axes>"
      ]
     },
     "metadata": {
      "needs_background": "light"
     },
     "output_type": "display_data"
    }
   ],
   "source": [
    "import matplotlib.pyplot as plt\n",
    "import seaborn as sns\n",
    "acceptdf = df[df.ACCEPTED==1] \n",
    "ax = sns.histplot(data=acceptdf, x=\"PAY\", kde=True)\n",
    "ax.set(xlabel = \"Pay rate\", ylabel = 'Accpeted count')\n",
    "\n",
    "# accepted rate for pay <= 30\n",
    "acceptBelow30 = 1.0*( len(acceptdf[acceptdf.PAY <= 30])/ len(df))\n",
    "print('total accept count:', len(acceptdf))\n",
    "print('accept rate for price below 30:', acceptBelow30)\n"
   ]
  },
  {
   "cell_type": "markdown",
   "id": "ef8ec17f",
   "metadata": {},
   "source": [
    "According to the graph, it shows that the distribution almost follows a gaussian distribution. Among all the accepted rides, 40% of them has price below $30. "
   ]
  },
  {
   "cell_type": "code",
   "execution_count": 137,
   "id": "ad134fb6",
   "metadata": {},
   "outputs": [
    {
     "data": {
      "text/html": [
       "<div>\n",
       "<style scoped>\n",
       "    .dataframe tbody tr th:only-of-type {\n",
       "        vertical-align: middle;\n",
       "    }\n",
       "\n",
       "    .dataframe tbody tr th {\n",
       "        vertical-align: top;\n",
       "    }\n",
       "\n",
       "    .dataframe thead th {\n",
       "        text-align: right;\n",
       "    }\n",
       "</style>\n",
       "<table border=\"1\" class=\"dataframe\">\n",
       "  <thead>\n",
       "    <tr style=\"text-align: right;\">\n",
       "      <th></th>\n",
       "      <th>range</th>\n",
       "      <th>accpetcount</th>\n",
       "      <th>rejectcount</th>\n",
       "      <th>acceptrate</th>\n",
       "    </tr>\n",
       "  </thead>\n",
       "  <tbody>\n",
       "    <tr>\n",
       "      <th>0</th>\n",
       "      <td>&lt;=10</td>\n",
       "      <td>2</td>\n",
       "      <td>59</td>\n",
       "      <td>0.032787</td>\n",
       "    </tr>\n",
       "    <tr>\n",
       "      <th>1</th>\n",
       "      <td>10&lt;x&lt;=20</td>\n",
       "      <td>21</td>\n",
       "      <td>195</td>\n",
       "      <td>0.097222</td>\n",
       "    </tr>\n",
       "    <tr>\n",
       "      <th>2</th>\n",
       "      <td>20&lt;x&lt;=30</td>\n",
       "      <td>188</td>\n",
       "      <td>188</td>\n",
       "      <td>0.500000</td>\n",
       "    </tr>\n",
       "    <tr>\n",
       "      <th>3</th>\n",
       "      <td>30&lt;x&lt;=40</td>\n",
       "      <td>242</td>\n",
       "      <td>29</td>\n",
       "      <td>0.892989</td>\n",
       "    </tr>\n",
       "    <tr>\n",
       "      <th>4</th>\n",
       "      <td>40&lt;x&lt;=50</td>\n",
       "      <td>65</td>\n",
       "      <td>2</td>\n",
       "      <td>0.970149</td>\n",
       "    </tr>\n",
       "    <tr>\n",
       "      <th>5</th>\n",
       "      <td>50&lt;x&lt;=60</td>\n",
       "      <td>9</td>\n",
       "      <td>0</td>\n",
       "      <td>1.000000</td>\n",
       "    </tr>\n",
       "  </tbody>\n",
       "</table>\n",
       "</div>"
      ],
      "text/plain": [
       "      range  accpetcount  rejectcount  acceptrate\n",
       "0      <=10            2           59    0.032787\n",
       "1  10<x<=20           21          195    0.097222\n",
       "2  20<x<=30          188          188    0.500000\n",
       "3  30<x<=40          242           29    0.892989\n",
       "4  40<x<=50           65            2    0.970149\n",
       "5  50<x<=60            9            0    1.000000"
      ]
     },
     "execution_count": 137,
     "metadata": {},
     "output_type": "execute_result"
    }
   ],
   "source": [
    "rejectdf = df[df.ACCEPTED==0]\n",
    "accept10 = len(acceptdf[(acceptdf.PAY<=10)])\n",
    " \n",
    "accept20 = len(acceptdf[(acceptdf.PAY >10) & (acceptdf.PAY<=20)])\n",
    "accept30 = len(acceptdf[(acceptdf.PAY >20) & (acceptdf.PAY<=30)])\n",
    "accept40 = len(acceptdf[(acceptdf.PAY >30) & (acceptdf.PAY<=40)])\n",
    "accept50 = len(acceptdf[(acceptdf.PAY >40) & (acceptdf.PAY<=50)])\n",
    "accept60 = len(acceptdf[(acceptdf.PAY >50)])\n",
    "\n",
    "rejectdf10 = len(rejectdf[(rejectdf.PAY<=10)])\n",
    "rejectdf20 = len(rejectdf[(rejectdf.PAY >10) & (rejectdf.PAY<=20)])\n",
    "rejectdf30 = len(rejectdf[(rejectdf.PAY >20) & (rejectdf.PAY<=30)])\n",
    "rejectdf40 = len(rejectdf[(rejectdf.PAY >30) & (rejectdf.PAY<=40)])\n",
    "rejectdf50 = len(rejectdf[(rejectdf.PAY >40) & (rejectdf.PAY<=50)])\n",
    "rejectdf60 = len(rejectdf[(rejectdf.PAY >50)])\n",
    "\n",
    "matchrate10 = 1.0*accept10/(accept10+ rejectdf10)  \n",
    "matchrate20 = 1.0*accept20/(accept20+ rejectdf20)  \n",
    "matchrate30 = 1.0*accept30/(accept30+ rejectdf30)  \n",
    "matchrate40 = 1.0*accept40/(accept40+ rejectdf40)  \n",
    "matchrate50 = 1.0*accept50/(accept50+ rejectdf50)  \n",
    "matchrate60 = 1.0*accept60/(accept60+ rejectdf60) \n",
    "\n",
    "data = [['<=10', accept10,rejectdf10,matchrate10],['10<x<=20', accept20,rejectdf20,matchrate20],['20<x<=30',accept30,rejectdf30,matchrate30],['30<x<=40',accept40,rejectdf40,matchrate40],['40<x<=50',accept50,rejectdf50,matchrate50],['50<x<=60',accept60,rejectdf60,matchrate60]]\n",
    "matchratedf = pd.DataFrame(data, columns=['range','accpetcount', 'rejectcount', 'acceptrate'])\n",
    "  \n",
    "# print dataframe.\n",
    "matchratedf                                                                                                                                            "
   ]
  },
  {
   "cell_type": "markdown",
   "id": "f7b18702",
   "metadata": {},
   "source": [
    "After we dividing the pay range into several interval, we found that range[40,50] and [50,60] has highest match rate"
   ]
  },
  {
   "cell_type": "code",
   "execution_count": 40,
   "id": "f4f99cb8",
   "metadata": {},
   "outputs": [
    {
     "name": "stdout",
     "output_type": "stream",
     "text": [
      "price range accepted is [ 5.403973164 ,  53.66756318 ]\n"
     ]
    }
   ],
   "source": [
    "minaccept = min(acceptdf.PAY)\n",
    "maxaccept = max(acceptdf.PAY)\n",
    "print(\"accepted price range is [\", minaccept,', ',maxaccept,']' )"
   ]
  },
  {
   "cell_type": "markdown",
   "id": "5bb8a5ef",
   "metadata": {},
   "source": [
    "<h3>Explore the impact of pay rate on the number of match rides over 12 months</h3>"
   ]
  },
  {
   "cell_type": "code",
   "execution_count": 19,
   "id": "758872cd",
   "metadata": {},
   "outputs": [],
   "source": [
    "from scipy.stats import poisson"
   ]
  },
  {
   "cell_type": "markdown",
   "id": "db4edbec",
   "metadata": {},
   "source": [
    "First of all, we need to find the break even point that revenue = cost\n",
    "<li> Revenue = 30 * match ride </li> \n",
    "<li> Cost = Rider Acquired cost + Driver cost = Number of New rider * 30 + match ride * cost/ride </li> \n",
    "<br>\n",
    "In this model, for each month, I divide riders into 2 groups. One is old riders, who take ride in the previous months. The other is new riders, who are newly acquired in this month.\n",
    "\n",
    "parameter for the model includes: number of new riders acquired for each month, cost pay to driver\n",
    " "
   ]
  },
  {
   "cell_type": "code",
   "execution_count": 233,
   "id": "6bcfb053",
   "metadata": {},
   "outputs": [
    {
     "name": "stdout",
     "output_type": "stream",
     "text": [
      "total profit: -25001.220703125\n"
     ]
    },
    {
     "data": {
      "text/html": [
       "<div>\n",
       "<style scoped>\n",
       "    .dataframe tbody tr th:only-of-type {\n",
       "        vertical-align: middle;\n",
       "    }\n",
       "\n",
       "    .dataframe tbody tr th {\n",
       "        vertical-align: top;\n",
       "    }\n",
       "\n",
       "    .dataframe thead th {\n",
       "        text-align: right;\n",
       "    }\n",
       "</style>\n",
       "<table border=\"1\" class=\"dataframe\">\n",
       "  <thead>\n",
       "    <tr style=\"text-align: right;\">\n",
       "      <th></th>\n",
       "      <th>month</th>\n",
       "      <th>income</th>\n",
       "      <th>totalcost</th>\n",
       "      <th>profit</th>\n",
       "      <th>old_Rider</th>\n",
       "      <th>new_Rider</th>\n",
       "      <th>riderLeave</th>\n",
       "      <th>lambdas</th>\n",
       "    </tr>\n",
       "  </thead>\n",
       "  <tbody>\n",
       "    <tr>\n",
       "      <th>0</th>\n",
       "      <td>1</td>\n",
       "      <td>15000.000000</td>\n",
       "      <td>42500.000000</td>\n",
       "      <td>-27500.000000</td>\n",
       "      <td>0</td>\n",
       "      <td>1000</td>\n",
       "      <td>683</td>\n",
       "      <td>1.000000</td>\n",
       "    </tr>\n",
       "    <tr>\n",
       "      <th>1</th>\n",
       "      <td>2</td>\n",
       "      <td>7500.000000</td>\n",
       "      <td>6250.000000</td>\n",
       "      <td>1250.000000</td>\n",
       "      <td>316</td>\n",
       "      <td>0</td>\n",
       "      <td>874</td>\n",
       "      <td>1.581977</td>\n",
       "    </tr>\n",
       "    <tr>\n",
       "      <th>2</th>\n",
       "      <td>3</td>\n",
       "      <td>3750.000000</td>\n",
       "      <td>3125.000000</td>\n",
       "      <td>625.000000</td>\n",
       "      <td>125</td>\n",
       "      <td>0</td>\n",
       "      <td>945</td>\n",
       "      <td>1.991331</td>\n",
       "    </tr>\n",
       "    <tr>\n",
       "      <th>3</th>\n",
       "      <td>4</td>\n",
       "      <td>1875.000000</td>\n",
       "      <td>1562.500000</td>\n",
       "      <td>312.500000</td>\n",
       "      <td>54</td>\n",
       "      <td>0</td>\n",
       "      <td>975</td>\n",
       "      <td>2.306152</td>\n",
       "    </tr>\n",
       "    <tr>\n",
       "      <th>4</th>\n",
       "      <td>5</td>\n",
       "      <td>937.500000</td>\n",
       "      <td>781.250000</td>\n",
       "      <td>156.250000</td>\n",
       "      <td>24</td>\n",
       "      <td>0</td>\n",
       "      <td>988</td>\n",
       "      <td>2.561378</td>\n",
       "    </tr>\n",
       "    <tr>\n",
       "      <th>5</th>\n",
       "      <td>6</td>\n",
       "      <td>468.750000</td>\n",
       "      <td>390.625000</td>\n",
       "      <td>78.125000</td>\n",
       "      <td>11</td>\n",
       "      <td>0</td>\n",
       "      <td>994</td>\n",
       "      <td>2.775654</td>\n",
       "    </tr>\n",
       "    <tr>\n",
       "      <th>6</th>\n",
       "      <td>7</td>\n",
       "      <td>234.375000</td>\n",
       "      <td>195.312500</td>\n",
       "      <td>39.062500</td>\n",
       "      <td>5</td>\n",
       "      <td>0</td>\n",
       "      <td>997</td>\n",
       "      <td>2.960094</td>\n",
       "    </tr>\n",
       "    <tr>\n",
       "      <th>7</th>\n",
       "      <td>8</td>\n",
       "      <td>117.187500</td>\n",
       "      <td>97.656250</td>\n",
       "      <td>19.531250</td>\n",
       "      <td>2</td>\n",
       "      <td>0</td>\n",
       "      <td>998</td>\n",
       "      <td>3.121849</td>\n",
       "    </tr>\n",
       "    <tr>\n",
       "      <th>8</th>\n",
       "      <td>9</td>\n",
       "      <td>58.593750</td>\n",
       "      <td>48.828125</td>\n",
       "      <td>9.765625</td>\n",
       "      <td>1</td>\n",
       "      <td>0</td>\n",
       "      <td>999</td>\n",
       "      <td>3.265791</td>\n",
       "    </tr>\n",
       "    <tr>\n",
       "      <th>9</th>\n",
       "      <td>10</td>\n",
       "      <td>29.296875</td>\n",
       "      <td>24.414062</td>\n",
       "      <td>4.882812</td>\n",
       "      <td>0</td>\n",
       "      <td>0</td>\n",
       "      <td>999</td>\n",
       "      <td>3.395382</td>\n",
       "    </tr>\n",
       "    <tr>\n",
       "      <th>10</th>\n",
       "      <td>11</td>\n",
       "      <td>14.648438</td>\n",
       "      <td>12.207031</td>\n",
       "      <td>2.441406</td>\n",
       "      <td>0</td>\n",
       "      <td>0</td>\n",
       "      <td>999</td>\n",
       "      <td>3.513170</td>\n",
       "    </tr>\n",
       "    <tr>\n",
       "      <th>11</th>\n",
       "      <td>12</td>\n",
       "      <td>7.324219</td>\n",
       "      <td>6.103516</td>\n",
       "      <td>1.220703</td>\n",
       "      <td>0</td>\n",
       "      <td>0</td>\n",
       "      <td>999</td>\n",
       "      <td>3.621087</td>\n",
       "    </tr>\n",
       "  </tbody>\n",
       "</table>\n",
       "</div>"
      ],
      "text/plain": [
       "    month        income     totalcost        profit  old_Rider  new_Rider  \\\n",
       "0       1  15000.000000  42500.000000 -27500.000000          0       1000   \n",
       "1       2   7500.000000   6250.000000   1250.000000        316          0   \n",
       "2       3   3750.000000   3125.000000    625.000000        125          0   \n",
       "3       4   1875.000000   1562.500000    312.500000         54          0   \n",
       "4       5    937.500000    781.250000    156.250000         24          0   \n",
       "5       6    468.750000    390.625000     78.125000         11          0   \n",
       "6       7    234.375000    195.312500     39.062500          5          0   \n",
       "7       8    117.187500     97.656250     19.531250          2          0   \n",
       "8       9     58.593750     48.828125      9.765625          1          0   \n",
       "9      10     29.296875     24.414062      4.882812          0          0   \n",
       "10     11     14.648438     12.207031      2.441406          0          0   \n",
       "11     12      7.324219      6.103516      1.220703          0          0   \n",
       "\n",
       "    riderLeave   lambdas  \n",
       "0          683  1.000000  \n",
       "1          874  1.581977  \n",
       "2          945  1.991331  \n",
       "3          975  2.306152  \n",
       "4          988  2.561378  \n",
       "5          994  2.775654  \n",
       "6          997  2.960094  \n",
       "7          998  3.121849  \n",
       "8          999  3.265791  \n",
       "9          999  3.395382  \n",
       "10         999  3.513170  \n",
       "11         999  3.621087  "
      ]
     },
     "execution_count": 233,
     "metadata": {},
     "output_type": "execute_result"
    }
   ],
   "source": [
    "\"\"\"\n",
    "driverPay is a dictionary \n",
    "key is the cost and rate is the match rate based on the driverAcceptanceData \n",
    "\"\"\"\n",
    "driverPay = {}\n",
    "driverPay[10] = 0.03\n",
    "driverPay[15] = 0.10\n",
    "driverPay[25] = 0.5\n",
    "driverPay[35] = 0.9\n",
    "driverPay[45] = 0.97\n",
    "driverPay[55] = 1\n",
    "\n",
    "payToDriver ={}\n",
    "for i in range(1,13):\n",
    "    payToDriver[i] = 25\n",
    "    \n",
    "    \n",
    "\n",
    "def getDetails(nextlambdas, monthid, payToDriver,num_new_riders, riderMatchBefore, res):\n",
    "    \n",
    "    if monthid ==13:\n",
    "        return\n",
    "    if monthid == 1: # in the first month\n",
    "        newrider = 1000\n",
    "        oldrider = 0\n",
    "        lambdas = 1\n",
    "    else:\n",
    "        oldrider = riderMatchBefore\n",
    "        newrider = num_new_riders\n",
    "    lambdas = nextlambdas\n",
    "    peopleHasRequest = oldrider  * (1- poisson.cdf(k=0, mu=lambdas)) + newrider* (1- poisson.cdf(k=0, mu=1))\n",
    "    requestNo = oldrider*lambdas + newrider*1\n",
    "    peopleNoRequest = 1000 - peopleHasRequest\n",
    "    matchrate = driverPay[payToDriver[monthid]]\n",
    "    matchNo = requestNo*matchrate\n",
    "    peopleNoMatch = peopleHasRequest*(1-matchrate)\n",
    "    peoplehasMatch = peopleHasRequest* matchrate \n",
    "    riderLeave = int(peopleNoRequest + peopleNoMatch)\n",
    "    \n",
    "    income = matchNo *30\n",
    "    cost = matchNo * payToDriver[monthid]\n",
    "    acquirecost = newrider*30\n",
    "    totalcost = cost + acquirecost\n",
    "    profit = income - cost -acquirecost\n",
    "    nextlambdas =  matchNo/peoplehasMatch\n",
    "    res.append([monthid, income, totalcost, profit, int(oldrider), int(newrider), riderLeave, lambdas])\n",
    "    getDetails(nextlambdas, monthid+1, payToDriver, num_new_riders, peoplehasMatch, res)\n",
    "    return res\n",
    "\n",
    "res = getDetails(1,1, payToDriver, 0, 0, [])\n",
    "details = pd.DataFrame(res, columns=['month','income', 'totalcost', 'profit', 'old_Rider', 'new_Rider', 'riderLeave', 'lambdas'])\n",
    "print(\"total profit:\", details.profit.sum())\n",
    "details \n"
   ]
  },
  {
   "cell_type": "markdown",
   "id": "bde21769",
   "metadata": {},
   "source": [
    "plot graph, x-axis is the cost pay to driver, y-axis is the profit. Assume each month we pay the same price to driver"
   ]
  },
  {
   "cell_type": "code",
   "execution_count": 240,
   "id": "59f9011b",
   "metadata": {},
   "outputs": [
    {
     "name": "stdout",
     "output_type": "stream",
     "text": [
      "          profit  payrate\n",
      "0  -29381.443299       10\n",
      "1  -28333.333333       15\n",
      "2  -25001.220703       25\n",
      "3  -62290.670858       35\n",
      "4 -178486.454917       45\n",
      "5 -330000.000000       55\n"
     ]
    },
    {
     "data": {
      "image/png": "[encoded data removed]",
      "text/plain": [
       "<Figure size 432x288 with 1 Axes>"
      ]
     },
     "metadata": {
      "needs_background": "light"
     },
     "output_type": "display_data"
    }
   ],
   "source": [
    "profits = []\n",
    "for k in driverPay.keys():\n",
    "    payToDriver ={} \n",
    "    res = []\n",
    "\n",
    "    for i in range(1,13):\n",
    "        payToDriver[i] = k\n",
    "    res = getDetails(1,1, payToDriver,0, 0, [])\n",
    "    details = pd.DataFrame(res, columns=['month','income', 'totalcost', 'profit', 'old_Rider', 'new_Rider', 'riderLeave', 'lambdas'])\n",
    "    profits.append([details.profit.sum(),k])\n",
    "\n",
    "profit_payrate = pd.DataFrame(profits, columns=['profit','payrate'])\n",
    "sns.lineplot(data=profit_payrate , x=\"payrate\", y=\"profit\")\n",
    "print(profit_payrate )"
   ]
  },
  {
   "cell_type": "markdown",
   "id": "bb9062f7",
   "metadata": {},
   "source": [
    "From above graph, we noticed that if no new riders added in the subsequent months and assume the payrate is fixed, the max profit will be negative when payrate is $25.\n",
    "\n"
   ]
  },
  {
   "cell_type": "code",
   "execution_count": null,
   "id": "43655f2e",
   "metadata": {},
   "outputs": [],
   "source": []
  }
 ],
 "metadata": {
  "kernelspec": {
   "display_name": "Python 3",
   "language": "python",
   "name": "python3"
  },
  "language_info": {
   "codemirror_mode": {
    "name": "ipython",
    "version": 3
   },
   "file_extension": ".py",
   "mimetype": "text/x-python",
   "name": "python",
   "nbconvert_exporter": "python",
   "pygments_lexer": "ipython3",
   "version": "3.8.8"
  }
 },
 "nbformat": 4,
 "nbformat_minor": 5
}
